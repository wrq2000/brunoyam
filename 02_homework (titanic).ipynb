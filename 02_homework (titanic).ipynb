{
 "cells": [
  {
   "cell_type": "markdown",
   "id": "884456a4",
   "metadata": {},
   "source": [
    "# Домашняя работа\n",
    "## Easy\n",
    "\n",
    "Скачать данные отсюда (кнопка download all снизу):\n",
    "\n",
    "[https://www.kaggle.com/c/titanic/data](https://www.kaggle.com/c/titanic/data)\n",
    "\n",
    "Это данные о пассажирах Титаника и информация о том, кто выжил, а кто нет. Будем анализировать файл train.csv.\n",
    "\n",
    "Необходимо прочитать файл, посчитать процент детей (младше 18 лет), соотношение мужчин/женщин на борту"
   ]
  },
  {
   "cell_type": "code",
   "execution_count": 19,
   "id": "42529a5e",
   "metadata": {},
   "outputs": [
    {
     "name": "stdout",
     "output_type": "stream",
     "text": [
      "Процент детей к общему числу пассажиров: 12.7%\n",
      "Процент детей к числу пассажиров с указанным возрастом: 15.8%\n",
      "Процент женщин: 35.2%\n",
      "Процент мужчин: 64.8%\n"
     ]
    }
   ],
   "source": [
    "import pandas as pd\n",
    "\n",
    "df_train = pd.read_csv(f'./Data/train.csv')\n",
    "\n",
    "#Общее число пассажиров\n",
    "total_pass_count = len(df_train)\n",
    "#Общее число пассажиров, у которых определен возраст\n",
    "total_pass_count_with_age = len(df_train.loc[~df_train['Age'].isnull()])\n",
    "\n",
    "#Число детей\n",
    "kids_count = len(df_train.loc[df_train['Age']<18])\n",
    "\n",
    "#Процент детей к общему числу пассажиров\n",
    "kids_percent_from_total = kids_count*100/total_pass_count\n",
    "\n",
    "#Процент детей к числу пассажиров с известным возрастом\n",
    "kids_percent_from_known_age = kids_count*100/total_pass_count_with_age\n",
    "\n",
    "print(f'Процент детей к общему числу пассажиров: {kids_percent_from_total:.1f}%')\n",
    "print(f'Процент детей к числу пассажиров с указанным возрастом: {kids_percent_from_known_age:.1f}%')\n",
    "\n",
    "#Отношение мужчин и женщин\n",
    "men_percent = len(df_train.loc[df_train['Sex']=='male'])*100/total_pass_count\n",
    "women_percent = len(df_train.loc[df_train['Sex']=='female'])*100/total_pass_count\n",
    "print(f'Процент женщин: {women_percent:.1f}%')\n",
    "print(f'Процент мужчин: {men_percent:.1f}%')\n"
   ]
  },
  {
   "cell_type": "markdown",
   "id": "f5e94344",
   "metadata": {},
   "source": [
    "## Normal\n",
    "\n",
    "Посчитать по скольким людям нет информации (пола или возраста)\n",
    "\n",
    "Вывести гистограмму по возрасту пассажиров\n",
    "\n",
    "Посчитать какой процент мужин и женщин выжили, какой процент детей выжили. \n",
    "\n",
    "Посчитать [корреляцию](https://pandas.pydata.org/docs/reference/api/pandas.DataFrame.corr.html) между возрастом и выживаемостью, полом и выживаемостью"
   ]
  },
  {
   "cell_type": "code",
   "execution_count": 60,
   "id": "e452cc71",
   "metadata": {},
   "outputs": [
    {
     "name": "stdout",
     "output_type": "stream",
     "text": [
      "Количество людей без указания возраста или пола: 177\n",
      "Процент выживших мужчин: 18.9\n",
      "Процент выживших женщин: 74.2\n",
      "Процент выживших детей: 54.0\n",
      "               Age  Survived     Sex_b    Pclass      Fare\n",
      "Age       1.000000 -0.077221  0.093254 -0.369226  0.096067\n",
      "Survived -0.077221  1.000000 -0.543351 -0.338481  0.257307\n",
      "Sex_b     0.093254 -0.543351  1.000000  0.131900 -0.182333\n",
      "Pclass   -0.369226 -0.338481  0.131900  1.000000 -0.549500\n",
      "Fare      0.096067  0.257307 -0.182333 -0.549500  1.000000\n"
     ]
    },
    {
     "data": {
      "image/png": "[encoded data removed]",
      "text/plain": [
       "<Figure size 432x288 with 1 Axes>"
      ]
     },
     "metadata": {
      "needs_background": "light"
     },
     "output_type": "display_data"
    }
   ],
   "source": [
    "#Количество людей, по которым отсутствует какая либо информация (пол или возраст)\n",
    "people_wout_data = len(df_train.loc[df_train['Age'].isnull() | df_train['Sex'].isnull()])\n",
    "print(f'Количество людей без указания возраста или пола: {people_wout_data}')\n",
    "import matplotlib.pyplot as plt\n",
    "hist = df_train.hist(column = 'Age', bins=8)\n",
    "\n",
    "#Процент выживших мужчин\n",
    "men_surv_percent = len(df_train.loc[(df_train['Sex']=='male') & (df_train['Survived'].astype(int)==1)])*100/\\\n",
    "                    len(df_train.loc[df_train['Sex']=='male'])\n",
    "#Процент выживших женщин\n",
    "women_surv_percent = len(df_train.loc[(df_train['Sex']=='female') & (df_train['Survived'].astype(int)==1)])*100/\\\n",
    "                    len(df_train.loc[df_train['Sex']=='female'])\n",
    "#Процент выживших детей\n",
    "kids_surv_percent = len(df_train.loc[(df_train['Age']<18) & (df_train['Survived'].astype(int)==1)])*100/\\\n",
    "                    len(df_train.loc[df_train['Age']<18])                  \n",
    "\n",
    "\n",
    "print(f'Процент выживших мужчин: {men_surv_percent:.1f}')\n",
    "print(f'Процент выживших женщин: {women_surv_percent:.1f}')\n",
    "print(f'Процент выживших детей: {kids_surv_percent:.1f}')\n",
    "\n",
    "#Преобразование пола в числовое значение\n",
    "def sex_binary(x):\n",
    "    if x == 'male':\n",
    "        return 1\n",
    "    else:\n",
    "        return 0\n",
    "\n",
    "df_train['Sex_b'] = df_train['Sex'].apply(lambda x: sex_binary(x))\n",
    "\n",
    "corr_train = df_train[['Age', 'Survived', 'Sex_b', 'Pclass', 'Fare']].corr()\n",
    "#Матрица корреляций\n",
    "print(corr_train)"
   ]
  },
  {
   "cell_type": "markdown",
   "id": "83bb399c",
   "metadata": {},
   "source": [
    "## Hard\n",
    "\n",
    "Сделав вывод по данным, написать простейшую модель, которая будет определять по входным данным, выжил ли человек. Проверить свою гипотезу на данных train.csv, оценить успешность модели. Прогнать модель на файле test.csv\n",
    "\n",
    "Загрузить решение на kaggle.\n",
    "\n",
    "Решение представляет из себя файл с 2 колонками: PassengerId и Survived. Id пассажиров и их данные нужно брать из файла test.csv."
   ]
  },
  {
   "cell_type": "markdown",
   "id": "df20371c",
   "metadata": {},
   "source": [
    "## Решение: \n",
    "Исходя из матрицы корреляций можно сделать вывод о том, что существует только одна значимая корреляция - зависимость между полом и выживаемостью. Соответственно, самая простая модель состоит в том, чтобы определять вероятность выживания по полу."
   ]
  },
  {
   "cell_type": "code",
   "execution_count": 64,
   "id": "d927b074",
   "metadata": {},
   "outputs": [
    {
     "name": "stdout",
     "output_type": "stream",
     "text": [
      "     PassengerId  Survived\n",
      "0            892         0\n",
      "1            893         1\n",
      "2            894         0\n",
      "3            895         0\n",
      "4            896         1\n",
      "..           ...       ...\n",
      "413         1305         0\n",
      "414         1306         1\n",
      "415         1307         0\n",
      "416         1308         0\n",
      "417         1309         0\n",
      "\n",
      "[418 rows x 2 columns]\n"
     ]
    }
   ],
   "source": [
    "df_answer = pd.read_csv(f'./Data/test.csv')\n",
    "\n",
    "#Расчет выживаемости\n",
    "def survived(x):\n",
    "    if x == 'male':\n",
    "        return 0\n",
    "    else:\n",
    "        return 1\n",
    "    \n",
    "df_answer['Survived'] = df_answer['Sex'].apply(lambda x: survived(x))\n",
    "df_answer = df_answer[['PassengerId', 'Survived']]\n",
    "\n",
    "print(df_answer)"
   ]
  },
  {
   "cell_type": "code",
   "execution_count": null,
   "id": "18200e1a",
   "metadata": {},
   "outputs": [],
   "source": []
  }
 ],
 "metadata": {
  "kernelspec": {
   "display_name": "Python 3 (ipykernel)",
   "language": "python",
   "name": "python3"
  },
  "language_info": {
   "codemirror_mode": {
    "name": "ipython",
    "version": 3
   },
   "file_extension": ".py",
   "mimetype": "text/x-python",
   "name": "python",
   "nbconvert_exporter": "python",
   "pygments_lexer": "ipython3",
   "version": "3.8.3"
  }
 },
 "nbformat": 4,
 "nbformat_minor": 5
}
