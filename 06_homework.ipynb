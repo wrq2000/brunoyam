{
 "cells": [
  {
   "cell_type": "markdown",
   "id": "71cecd65",
   "metadata": {},
   "source": [
    "## Домашняя работа\n",
    "### Easy\n",
    "Для данных с Титаника обучить модели логистической регресси и решающего дерева на 80% обучающей выборки и проверить результат на 20%. У какой модели результат лучше?"
   ]
  },
  {
   "cell_type": "code",
   "execution_count": 196,
   "id": "884fd358",
   "metadata": {},
   "outputs": [
    {
     "name": "stdout",
     "output_type": "stream",
     "text": [
      "Точность по модели логистической регресии: 76.5%\n",
      "Точность по модели решающего дерева: 77.1%\n",
      "Точность модели логистической регрессии ниже точности модели решающего дерева.\n"
     ]
    }
   ],
   "source": [
    "import pandas as pd\n",
    "from sklearn.linear_model import LogisticRegression\n",
    "from sklearn.tree import DecisionTreeClassifier\n",
    "from sklearn.linear_model import LogisticRegression\n",
    "from sklearn.metrics import accuracy_score\n",
    "from sklearn.model_selection import train_test_split\n",
    "from sklearn.linear_model import LinearRegression\n",
    "import numpy as np\n",
    "\n",
    "#Тренировочный датафрейм\n",
    "df = pd.read_csv(f'./Data/train.csv')\n",
    "#Преобразуем категорию \"пол\"\n",
    "df = df.join(pd.get_dummies(df['Sex']))\n",
    "#Удаляем обработанные и некатегорируемые признаки\n",
    "df.drop(['Name', 'Sex', 'Ticket', 'Cabin', 'Embarked','PassengerId'], inplace=True, axis=1)\n",
    "df.fillna(0, inplace=True)\n",
    "#Из исходного выделяем x-датафрейм\n",
    "x_cols = list(df.columns)\n",
    "x_cols.remove('Survived')\n",
    "x_df = df[x_cols]\n",
    "#Из исходного выделяем y-датафрейм\n",
    "y_df = np.ravel(df[['Survived']])\n",
    "\n",
    "#Разделяем датафреймы на тренировочные и тестовые\n",
    "x_train, x_test, y_train, y_test = train_test_split(x_df, y_df, train_size=0.8)\n",
    "\n",
    "#Расчет точности модели\n",
    "def model_acc(model):\n",
    "    model.fit(x_train, y_train)\n",
    "    y_pred = model.predict(x_test)\n",
    "    return accuracy_score(y_test, y_pred)\n",
    "\n",
    "#Модель - логистическая регрессия\n",
    "#Если не использовать параметр solver='liblinear', \n",
    "#иногда получаем ошибку - AttributeError: 'str' object has no attribute 'decode'\n",
    "#Точность модели логистической регрессии\n",
    "acc_lr = model_acc(LogisticRegression(solver='liblinear'))\n",
    "\n",
    "#Точность модели решающего дерева\n",
    "acc_dt = model_acc(DecisionTreeClassifier())\n",
    "\n",
    "print(f'Точность по модели логистической регресии: {acc_lr*100:.1f}%')\n",
    "print(f'Точность по модели решающего дерева: {acc_dt*100:.1f}%')\n",
    "\n",
    "if (acc_lr>acc_dt):\n",
    "    print('Точность модели логистической регрессии выше точности модели решающего дерева.')\n",
    "elif (acc_lr<acc_dt):\n",
    "    print('Точность модели логистической регрессии ниже точности модели решающего дерева.')\n",
    "elif (acc_lr==acc_dt):\n",
    "    print('Точности обеих моделей равны.')"
   ]
  },
  {
   "cell_type": "markdown",
   "id": "bb6e32de",
   "metadata": {},
   "source": [
    "## Normal\n",
    "Используя кросс-валидацию, применить к данным Титаника модель RandomForestClassifier. Сравнить с первыми двумя моделями."
   ]
  },
  {
   "cell_type": "code",
   "execution_count": 206,
   "id": "77e0a0d5",
   "metadata": {},
   "outputs": [
    {
     "name": "stdout",
     "output_type": "stream",
     "text": [
      "Точность модели логистической регрессии ниже точности модели случайного леса.\n",
      "Точность модели решающего дерева соответствует точности модели случайного леса.\n"
     ]
    }
   ],
   "source": [
    "from sklearn.model_selection import cross_val_score\n",
    "from sklearn.ensemble import RandomForestClassifier\n",
    "\n",
    "cv = cross_val_score(RandomForestClassifier(), x_df, y_df)\n",
    "if (acc_lr<=max(cv)) & (acc_lr>=min(cv)):\n",
    "    print(f'Точность модели логистической регрессии соответствует точности модели случайного леса.')\n",
    "if (acc_lr>max(cv)):\n",
    "    print(f'Точность модели логистической регрессии выше точности модели случайного леса.')\n",
    "if (acc_lr<min(cv)):\n",
    "    print(f'Точность модели логистической регрессии ниже точности модели случайного леса.')\n",
    "\n",
    "if (acc_dt<=max(cv)) & (acc_dt>=min(cv)):\n",
    "    print(f'Точность модели решающего дерева соответствует точности модели случайного леса.')\n",
    "if (acc_dt>max(cv)):\n",
    "    print(f'Точность модели решающего дерева выше точности модели случайного леса.')\n",
    "if (acc_dt<min(cv)):\n",
    "    print(f'Точность модели решающего дерева ниже точности модели случайного леса.')    \n",
    "    "
   ]
  },
  {
   "cell_type": "markdown",
   "id": "11863f84",
   "metadata": {},
   "source": [
    "## Hard\n",
    "Чтобы окончательно разобраться с линейной регрессией, лучше всего один раз реализовать ее самостоятельно. В этом и состоит суть задания.\n",
    "\n",
    "В качестве данных использовать датасет https://www.kaggle.com/mustafaali96/weight-height. Единицы измерения - дюймы и фунты.\n",
    "\n",
    "Будем исследовать как рост зависит от веса для мужчин.\n",
    "\n",
    "Алгоритм решения задачи:\n",
    "\n",
    "Написать функцию для подсчета прогноза линейной регрессии , в которой w и b - веса модели, которые мы будем оптимизировать, а x - входные данные (зависимая переменная). Обращаю внимание, что функция должна быть векторизована, то есть в x должна быть возможность передать вектор значений, а не одно число.\n",
    "\n",
    "Написать функцию ошибки для модели . ,  - параметры модели, а  - вектор входящих данных. В качестве ошибки будем использовать Mean Squared Error (MSE).\n",
    "\n",
    "Минимизировать функцию J по параметрам  и , используя данные . Минимизацию можно проводить при помощи функции minimize.\n",
    "\n",
    "Подставить получившиеся минимальные значения w и b в функцию f, нарисовать диаграмму рассеивания (scatter plot) и отобразить работу модели (пример графика есть в этом ноутбуке)"
   ]
  },
  {
   "cell_type": "code",
   "execution_count": 227,
   "id": "fc31f426",
   "metadata": {},
   "outputs": [
    {
     "name": "stdout",
     "output_type": "stream",
     "text": [
      "Функция линейной регрессии (зависимость роста от веса) имеет вид: y = 0.006995087286824962*x + 1.1598685351119569\n"
     ]
    },
    {
     "data": {
      "text/plain": [
       "[<matplotlib.lines.Line2D at 0x1a7989bb100>]"
      ]
     },
     "execution_count": 227,
     "metadata": {},
     "output_type": "execute_result"
    },
    {
     "data": {
      "image/png": "[encoded data removed]",
      "text/plain": [
       "<Figure size 432x288 with 1 Axes>"
      ]
     },
     "metadata": {
      "needs_background": "light"
     },
     "output_type": "display_data"
    }
   ],
   "source": [
    "import numpy as np\n",
    "import matplotlib.pyplot as plt\n",
    "N = 100     # число экспериментов\n",
    "sigma = 3   # стандартное отклонение наблюдаемых значений\n",
    "k = 0.5     # теоретическое значение параметра k\n",
    "b = 2       # теоретическое значение параметра b\n",
    "x = np.array(range(N))\n",
    "f = np.array([k*z+b for z in range(N)])\n",
    "y = f + np.random.normal(0, sigma, N)\n",
    "\n",
    "#Расчет X, Y аналитической функции линейной регрессии\n",
    "def mnk(x, y):\n",
    "    N = len(x)\n",
    "    # вычисляем коэффициенты\n",
    "    mx = x.sum()/N\n",
    "    my = y.sum()/N\n",
    "    a2 = np.dot(x.T, x)/N\n",
    "    a11 = np.dot(x.T, y)/N\n",
    "    k = (a11 - mx*my)/(a2 - mx**2)\n",
    "    b = my - k*mx\n",
    "    x2 = list(range(int(x.min()), int(x.max())))\n",
    "    y2 = [k*i+b for i in x2]\n",
    "    return (x2, y2, k, b)\n",
    "\n",
    "#Получаем данные\n",
    "df = pd.read_csv(f'./Data/weight-height.csv')\n",
    "\n",
    "#Из датафрейма выбираем только мужчин\n",
    "df = df.loc[df['Gender']=='Male']\n",
    "#Переводим в метрические единицы\n",
    "df['Weight'] = 0.453592 *df['Weight']\n",
    "df['Height'] = 2.54 * df['Height']/100\n",
    "#Функция линейной регрессии имеет вид: y = 0.12491793829156869*x + 45.66411555558636\n",
    "\n",
    "#Строим совокупность всех пар Вес - Рост\n",
    "plt.scatter(df['Weight'], df['Height'])\n",
    "\n",
    "#Строим линейную регрессию\n",
    "x2, y2, k, b = mnk(df['Weight'], df['Height'])\n",
    "print(f'Функция линейной регрессии (зависимость роста от веса) имеет вид: y = {k}*x + {b}')\n",
    "\n",
    "plt.plot(x2, y2, color='r')"
   ]
  }
 ],
 "metadata": {
  "kernelspec": {
   "display_name": "Python 3 (ipykernel)",
   "language": "python",
   "name": "python3"
  },
  "language_info": {
   "codemirror_mode": {
    "name": "ipython",
    "version": 3
   },
   "file_extension": ".py",
   "mimetype": "text/x-python",
   "name": "python",
   "nbconvert_exporter": "python",
   "pygments_lexer": "ipython3",
   "version": "3.8.3"
  }
 },
 "nbformat": 4,
 "nbformat_minor": 5
}
