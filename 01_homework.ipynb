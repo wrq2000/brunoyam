{
 "cells": [
  {
   "cell_type": "markdown",
   "id": "c28eec5d",
   "metadata": {},
   "source": [
    "# Домашнее задание\n",
    "\n",
    "Установить Anaconda и Git. Создать репозиторий на GitHub.\n",
    "\n",
    "Выложить в репозиторий на гитхабе (в ветку master) в отдельную папку (можно назвать ее 01-homework, например) ноутбук с решением хотя бы двух задач (систему со сложностью обговаривали на занятии)\n",
    "\n",
    "## Easy\n",
    "\n",
    "Нужно написать функцию, которая на вход получает список из чисел, а на выходе дает список, где каждое число возведено в квадрат. Решать при помощи цикла.\n",
    "\n",
    "Попробовать на вход:\n",
    "\n",
    "```python\n",
    "\n",
    "# 1.\n",
    "list(range(10))\n",
    "\n",
    "# 2.\n",
    "list(range(100))\n",
    "\n",
    "# 3.\n",
    "list()\n",
    "```\n",
    "\n",
    "## Normal\n",
    "\n",
    "Тоже самое, но на этот раз без цикла (смотрим раздел с функциями из ноутбука, который разбирали в классе). Сравнить скорость выполнения первого и второго варианта.\n",
    "\n",
    "## Hard\n",
    "\n",
    "Написать функцию, которая на вход принимает список, а возвращает словарь со среднием, медианой и модой, например вот такой: `{\"mean\": ..., \"median\": ..., \"mode\": ...}`. На следующем занятии разберем как это сделать при помощи библиотек, а пока нужно реализовать просто по формулам.\n",
    "\n",
    "Пример:\n",
    "\n",
    "```python\n",
    "\n",
    "func([0, 1, 1, 10, 5, 4, 3])\n",
    "\n",
    "# Должно вернуть: {\"mean\": 3.4285, \"median\": 3, \"mode\": 1}\n",
    "\n",
    "```"
   ]
  },
  {
   "cell_type": "code",
   "execution_count": 11,
   "id": "4e02aac4",
   "metadata": {},
   "outputs": [
    {
     "name": "stdout",
     "output_type": "stream",
     "text": [
      "[0, 1, 4, 9, 16, 25, 36, 49, 64, 81]\n",
      "[0, 1, 4, 9, 16, 25, 36, 49, 64, 81, 100, 121, 144, 169, 196, 225, 256, 289, 324, 361, 400, 441, 484, 529, 576, 625, 676, 729, 784, 841, 900, 961, 1024, 1089, 1156, 1225, 1296, 1369, 1444, 1521, 1600, 1681, 1764, 1849, 1936, 2025, 2116, 2209, 2304, 2401, 2500, 2601, 2704, 2809, 2916, 3025, 3136, 3249, 3364, 3481, 3600, 3721, 3844, 3969, 4096, 4225, 4356, 4489, 4624, 4761, 4900, 5041, 5184, 5329, 5476, 5625, 5776, 5929, 6084, 6241, 6400, 6561, 6724, 6889, 7056, 7225, 7396, 7569, 7744, 7921, 8100, 8281, 8464, 8649, 8836, 9025, 9216, 9409, 9604, 9801]\n",
      "{'mean': 3.5, 'median': 2.5, 'moda': 1}\n"
     ]
    }
   ],
   "source": [
    "#Первое задание\n",
    "def sqr(x):\n",
    "    new_list = []\n",
    "    for i in x:\n",
    "        new_list.append(i**2)\n",
    "    \n",
    "    return new_list\n",
    "print(sqr(list(range(10))))\n",
    "\n",
    "#Второе задание\n",
    "def sqr2(x):\n",
    "    return [i**2 for i in x]\n",
    "print(sqr2(list(range(100))))\n",
    "\n",
    "#Третье задание\n",
    "def some_stat(x):\n",
    "    mean = sum(x)/len(x)\n",
    "    x = sorted(x)\n",
    "    if len(x) % 2 ==0:\n",
    "        median = (x[len(x)//2-1]+x[len(x)//2])/2\n",
    "    else:\n",
    "        median = x[len(x)//2]\n",
    "        \n",
    "    counts = []\n",
    "    for i in x:\n",
    "        counts.append(x.count(i))\n",
    "    m = max(counts)\n",
    "    index = counts.index(m)\n",
    "    moda = x[index]\n",
    "    return {'mean':mean, 'median':median, 'moda':moda}\n",
    "\n",
    "\n",
    "print(some_stat([0, 1, 1, 10, 5, 4]))"
   ]
  },
  {
   "cell_type": "code",
   "execution_count": null,
   "id": "79a9d15d",
   "metadata": {},
   "outputs": [],
   "source": []
  }
 ],
 "metadata": {
  "kernelspec": {
   "display_name": "Python 3 (ipykernel)",
   "language": "python",
   "name": "python3"
  },
  "language_info": {
   "codemirror_mode": {
    "name": "ipython",
    "version": 3
   },
   "file_extension": ".py",
   "mimetype": "text/x-python",
   "name": "python",
   "nbconvert_exporter": "python",
   "pygments_lexer": "ipython3",
   "version": "3.8.3"
  }
 },
 "nbformat": 4,
 "nbformat_minor": 5
}
