{
 "cells": [
  {
   "cell_type": "markdown",
   "id": "2b391f3d",
   "metadata": {},
   "source": [
    "## Домашнее задание\n",
    "Для выполнения задач Easy и Normal опять используем данные Титаника\n",
    "\n",
    "### Easy\n",
    "Вычислить вероятность выживания, если пассажиру:\n",
    "\n",
    "от 0 до 25 лет\n",
    "от 25 до 50 лет\n",
    "от 50 лет и старше"
   ]
  },
  {
   "cell_type": "code",
   "execution_count": 33,
   "id": "3a2040fd",
   "metadata": {},
   "outputs": [
    {
     "name": "stdout",
     "output_type": "stream",
     "text": [
      "Вероятность выжить в диапазоне возраста от 0 до 25 лет составляет 16.5%\n",
      "Вероятность выжить в диапазоне возраста от 25 до 50 лет составляет 20.3%\n",
      "Вероятность выжить в диапазоне возраста от 50 до бесконечности лет составляет 3.8%\n"
     ]
    }
   ],
   "source": [
    "import pandas as pd\n",
    "import numpy as np\n",
    "\n",
    "df_train = pd.read_csv(f'./Data/train.csv')\n",
    "\n",
    "df_train.dropna(subset = ['Age'], inplace = True, axis=0)\n",
    "\n",
    "#Расчет вероятности выжить по условию возраста\n",
    "#start - начало возрастного диапазона\n",
    "#end - завершение возрастного диапазона\n",
    "#df - обрабатываемый датафрейм\n",
    "def stay_alive_age(start=0, end=np.inf, df=df_train):\n",
    "    #Длина отфильтрованного массива\n",
    "    l_filter_df = len(df[(df['Age']>=start) & (df['Age']<end) & (df['Survived']==1)])\n",
    "    if end == np.inf:\n",
    "        end = 'бесконечности'\n",
    "    return print(f'Вероятность выжить в диапазоне возраста от {start} до {end} лет '+\\\n",
    "                 f'составляет {l_filter_df*100/len(df):.1f}%')\n",
    "\n",
    "#Вероятность выжить до 25 лет\n",
    "stay_alive_age(end=25)\n",
    "#Вероятность выжить от 25 до 50 лет\n",
    "stay_alive_age(start=25, end=50)\n",
    "#Вероятность выжить старше 50 лет\n",
    "stay_alive_age(start=50)\n"
   ]
  },
  {
   "cell_type": "markdown",
   "id": "09da2bbd",
   "metadata": {},
   "source": [
    "### Normal\n",
    "Вычислить с какой вероятностью пассажир женского пола, если известно, что он выжил (использовать теорему Байеса)"
   ]
  },
  {
   "cell_type": "code",
   "execution_count": 38,
   "id": "a2d6d4c4",
   "metadata": {},
   "outputs": [
    {
     "name": "stdout",
     "output_type": "stream",
     "text": [
      "Вероятность того, что пассажир - женщина, если он выжил: 83.9%\n"
     ]
    }
   ],
   "source": [
    "#Вероятность выжить, если пассажир - женщина Р (B|A)\n",
    "p_b_a = len(df_train.loc[(df_train['Sex']=='female') & \n",
    "                         (df_train['Survived']==1)])*100/len(df_train.loc[df_train['Sex']=='female'])\n",
    "#Вероятность выжить P(A)\n",
    "p_a = len(df_train.loc[df_train['Survived']==1])*100/len(df_train)\n",
    "#Вероятность, что пассажир - женщина P(B)\n",
    "p_b = len(df_train.loc[df_train['Sex']=='female'])*100/len(df_train)\n",
    "\n",
    "#Расчет вероятности, что пассажир женщина, если он выжил P(A|B)\n",
    "p_a_b = p_b_a * p_a / p_b\n",
    "print(f'Вероятность того, что пассажир - женщина, если он выжил: {p_a_b:.1f}%')"
   ]
  },
  {
   "cell_type": "markdown",
   "id": "9906a05d",
   "metadata": {},
   "source": [
    "### Hard\n",
    "Закон распределения задается функцией плотности\n",
    "\n",
    "\n",
    "\n",
    "Найти вероятность того, что событие произойдет при \n",
    "\n",
    "P.S. в scipy есть функция для интегрирования функции"
   ]
  },
  {
   "cell_type": "code",
   "execution_count": 44,
   "id": "9157f06c",
   "metadata": {},
   "outputs": [
    {
     "name": "stdout",
     "output_type": "stream",
     "text": [
      "Результат интегрирования функции при lambda=0.5: (0.23865121854119112, 2.6495607767928046e-15)\n",
      "Результат интегрирования функции при lambda=1.0: (0.23254415793482963, 2.5817587838131664e-15)\n",
      "Результат интегрирования функции при lambda=1.5: (0.1733430917805659, 1.9244949165449598e-15)\n"
     ]
    }
   ],
   "source": [
    "import scipy.integrate as integrate\n",
    "\n",
    "#Функция расчета интеграла базовой функции при разных значениях lambda\n",
    "def int_exp(start, end, lam):\n",
    "    return integrate.quad(lambda x: lam*np.exp(-lam*x), start, end)\n",
    "\n",
    "#Расчет результатов интегрирования для lambda=0.5, 1.0, 1.5\n",
    "for i in range(3):\n",
    "    print(f'Результат интегрирования функции при lambda={i/2+0.5}: {int_exp(1,2,i/2+0.5)}')\n",
    "    \n"
   ]
  }
 ],
 "metadata": {
  "kernelspec": {
   "display_name": "Python 3 (ipykernel)",
   "language": "python",
   "name": "python3"
  },
  "language_info": {
   "codemirror_mode": {
    "name": "ipython",
    "version": 3
   },
   "file_extension": ".py",
   "mimetype": "text/x-python",
   "name": "python",
   "nbconvert_exporter": "python",
   "pygments_lexer": "ipython3",
   "version": "3.8.3"
  }
 },
 "nbformat": 4,
 "nbformat_minor": 5
}
